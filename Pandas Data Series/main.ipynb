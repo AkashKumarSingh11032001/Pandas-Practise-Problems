{
 "cells": [
  {
   "cell_type": "markdown",
   "id": "293d8d7e",
   "metadata": {},
   "source": [
    "# Pandas Data Series [40 exercises]"
   ]
  },
  {
   "cell_type": "code",
   "execution_count": 1,
   "id": "8ebb6d9d",
   "metadata": {},
   "outputs": [],
   "source": [
    "import pandas as pd\n",
    "import numpy as np"
   ]
  },
  {
   "cell_type": "code",
   "execution_count": 3,
   "id": "480e4a4e",
   "metadata": {},
   "outputs": [
    {
     "name": "stdout",
     "output_type": "stream",
     "text": [
      "0    9\n",
      "1    8\n",
      "2    7\n",
      "3    6\n",
      "4    5\n",
      "5    4\n",
      "6    3\n",
      "7    2\n",
      "8    1\n",
      "dtype: int64\n"
     ]
    }
   ],
   "source": [
    "#1 Write a Pandas program to create and display a one-dimensional array-like object containing an array of data using Pandas module\n",
    "data = pd.Series([9,8,7,6,5,4,3,2,1,])\n",
    "print(data)\n"
   ]
  },
  {
   "cell_type": "code",
   "execution_count": null,
   "id": "c83d30f7",
   "metadata": {},
   "outputs": [],
   "source": [
    "# 2. Write a Pandas program to convert a Panda module Series to Python list and it's type.\n",
    "data = pd.Series([9,8,7,6,5,4,3,2,1,])\n",
    "print(type(data))\n",
    "lis = data.tolist()"
   ]
  }
 ],
 "metadata": {
  "kernelspec": {
   "display_name": "Python 3",
   "language": "python",
   "name": "python3"
  },
  "language_info": {
   "codemirror_mode": {
    "name": "ipython",
    "version": 3
   },
   "file_extension": ".py",
   "mimetype": "text/x-python",
   "name": "python",
   "nbconvert_exporter": "python",
   "pygments_lexer": "ipython3",
   "version": "3.8.10"
  }
 },
 "nbformat": 4,
 "nbformat_minor": 5
}
