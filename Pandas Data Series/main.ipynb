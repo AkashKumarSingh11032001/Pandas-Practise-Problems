{
 "cells": [
  {
   "cell_type": "markdown",
   "id": "4e449201",
   "metadata": {},
   "source": [
    "# Pandas Data Series [40 exercises]"
   ]
  },
  {
   "cell_type": "code",
   "execution_count": 1,
   "id": "29309890",
   "metadata": {},
   "outputs": [],
   "source": [
    "import pandas as pd\n",
    "import numpy as np"
   ]
  },
  {
   "cell_type": "code",
   "execution_count": 3,
   "id": "fe30c054",
   "metadata": {},
   "outputs": [
    {
     "name": "stdout",
     "output_type": "stream",
     "text": [
      "0    9\n",
      "1    8\n",
      "2    7\n",
      "3    6\n",
      "4    5\n",
      "5    4\n",
      "6    3\n",
      "7    2\n",
      "8    1\n",
      "dtype: int64\n"
     ]
    }
   ],
   "source": [
    "#1 Write a Pandas program to create and display a one-dimensional array-like object containing an array of data using Pandas module\n",
    "data = pd.Series([9,8,7,6,5,4,3,2,1,])\n",
    "print(data)\n"
   ]
  },
  {
   "cell_type": "code",
   "execution_count": 6,
   "id": "9a125266",
   "metadata": {},
   "outputs": [
    {
     "name": "stdout",
     "output_type": "stream",
     "text": [
      "<class 'pandas.core.series.Series'>\n",
      "<class 'list'>\n"
     ]
    }
   ],
   "source": [
    "# 2. Write a Pandas program to convert a Panda module Series to Python list and it's type.\n",
    "data = pd.Series([9,8,7,6,5,4,3,2,1,])\n",
    "print(type(data))\n",
    "lis = data.tolist()\n",
    "print(type(lis))"
   ]
  },
  {
   "cell_type": "code",
   "execution_count": 10,
   "id": "0ccb6cee",
   "metadata": {},
   "outputs": [
    {
     "name": "stdout",
     "output_type": "stream",
     "text": [
      "0     3\n",
      "1     7\n",
      "2    11\n",
      "3    15\n",
      "4    19\n",
      "dtype: int64 0    1\n",
      "1    1\n",
      "2    1\n",
      "3    1\n",
      "4    1\n",
      "dtype: int64 0     2\n",
      "1    12\n",
      "2    30\n",
      "3    56\n",
      "4    90\n",
      "dtype: int64 0    2.000000\n",
      "1    1.333333\n",
      "2    1.200000\n",
      "3    1.142857\n",
      "4    1.111111\n",
      "dtype: float64\n"
     ]
    }
   ],
   "source": [
    "# 3. Write a Pandas program to add, subtract, multiple and divide two Pandas Series\n",
    "\n",
    "data1 = pd.Series([2, 4, 6, 8, 10])\n",
    "data2 = pd.Series([1, 3, 5, 7, 9])\n",
    "\n",
    "print(data1 + data2, data1 - data2, data1 * data2 ,data1 / data2)"
   ]
  },
  {
   "cell_type": "code",
   "execution_count": 13,
   "id": "6450fa12",
   "metadata": {},
   "outputs": [
    {
     "name": "stdout",
     "output_type": "stream",
     "text": [
      "Equal : \n",
      "0    False\n",
      "1    False\n",
      "2    False\n",
      "3    False\n",
      "4     True\n",
      "dtype: bool\n",
      "greater : \n",
      "0     True\n",
      "1     True\n",
      "2     True\n",
      "3     True\n",
      "4    False\n",
      "dtype: bool\n",
      "lesser : \n",
      "0    False\n",
      "1    False\n",
      "2    False\n",
      "3    False\n",
      "4    False\n",
      "dtype: bool\n"
     ]
    }
   ],
   "source": [
    "#4 Write a Pandas program to compare the elements of the two Pandas Series.\n",
    "data1 = pd.Series([2, 4, 6, 8, 10])\n",
    "data2 = pd.Series([1, 3, 5, 7, 10])\n",
    "\n",
    "print(\"Equal : \")\n",
    "print(data1 == data2)\n",
    "\n",
    "print(\"greater : \")\n",
    "print(data1 > data2)\n",
    "\n",
    "print(\"lesser : \")\n",
    "print(data1 < data2)\n"
   ]
  },
  {
   "cell_type": "code",
   "execution_count": 15,
   "id": "fd3a6539",
   "metadata": {},
   "outputs": [
    {
     "name": "stdout",
     "output_type": "stream",
     "text": [
      "a    100\n",
      "b    200\n",
      "c    300\n",
      "d    400\n",
      "e    800\n",
      "dtype: int64\n"
     ]
    }
   ],
   "source": [
    "#5 Write a Pandas program to convert a dictionary to a Pandas series\n",
    "dic = {'a': 100, 'b': 200, 'c': 300, 'd': 400, 'e': 800}\n",
    "ser = pd.Series(dic)\n",
    "print(ser)"
   ]
  },
  {
   "cell_type": "code",
   "execution_count": 17,
   "id": "d98ce2d7",
   "metadata": {},
   "outputs": [
    {
     "name": "stdout",
     "output_type": "stream",
     "text": [
      "0    10\n",
      "1    20\n",
      "2    30\n",
      "3    40\n",
      "4    50\n",
      "dtype: int32\n"
     ]
    }
   ],
   "source": [
    "# 6. Write a Pandas program to convert a NumPy array to a Pandas series\n",
    "np_arr = np.array([10, 20, 30, 40, 50])\n",
    "ser = pd.Series(np_arr)\n",
    "print(ser)"
   ]
  },
  {
   "cell_type": "code",
   "execution_count": 20,
   "id": "4a567211",
   "metadata": {},
   "outputs": [
    {
     "name": "stdout",
     "output_type": "stream",
     "text": [
      "0    100.00\n",
      "1    200.00\n",
      "2       NaN\n",
      "3    300.12\n",
      "4    400.00\n",
      "dtype: float64\n"
     ]
    }
   ],
   "source": [
    "# 7. Write a Pandas program to change the data type of given a column or a Series.\n",
    "\n",
    "data = pd.Series([100,200,'python',300.12,400])\n",
    "data = pd.to_numeric(data,errors='coerce')\n",
    "print(data)"
   ]
  },
  {
   "cell_type": "code",
   "execution_count": null,
   "id": "4332e7a4",
   "metadata": {},
   "outputs": [],
   "source": [
    "# 8. Write a Pandas program to convert the first column of a DataFrame as a Series.\n",
    "\n"
   ]
  }
 ],
 "metadata": {
  "kernelspec": {
   "display_name": "Python 3",
   "language": "python",
   "name": "python3"
  },
  "language_info": {
   "codemirror_mode": {
    "name": "ipython",
    "version": 3
   },
   "file_extension": ".py",
   "mimetype": "text/x-python",
   "name": "python",
   "nbconvert_exporter": "python",
   "pygments_lexer": "ipython3",
   "version": "3.8.10"
  }
 },
 "nbformat": 4,
 "nbformat_minor": 5
}
