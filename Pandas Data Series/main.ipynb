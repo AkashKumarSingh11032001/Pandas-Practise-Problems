{
 "cells": [
  {
   "cell_type": "markdown",
   "id": "cb1e6b54",
   "metadata": {},
   "source": [
    "# Pandas Data Series [40 exercises]"
   ]
  },
  {
   "cell_type": "code",
   "execution_count": 1,
   "id": "c13603c4",
   "metadata": {},
   "outputs": [],
   "source": [
    "import pandas as pd\n",
    "import numpy as np"
   ]
  },
  {
   "cell_type": "code",
   "execution_count": 3,
   "id": "2c00e049",
   "metadata": {},
   "outputs": [
    {
     "name": "stdout",
     "output_type": "stream",
     "text": [
      "0    9\n",
      "1    8\n",
      "2    7\n",
      "3    6\n",
      "4    5\n",
      "5    4\n",
      "6    3\n",
      "7    2\n",
      "8    1\n",
      "dtype: int64\n"
     ]
    }
   ],
   "source": [
    "#1 Write a Pandas program to create and display a one-dimensional array-like object containing an array of data using Pandas module\n",
    "data = pd.Series([9,8,7,6,5,4,3,2,1,])\n",
    "print(data)\n"
   ]
  },
  {
   "cell_type": "code",
   "execution_count": 6,
   "id": "6334c716",
   "metadata": {},
   "outputs": [
    {
     "name": "stdout",
     "output_type": "stream",
     "text": [
      "<class 'pandas.core.series.Series'>\n",
      "<class 'list'>\n"
     ]
    }
   ],
   "source": [
    "# 2. Write a Pandas program to convert a Panda module Series to Python list and it's type.\n",
    "data = pd.Series([9,8,7,6,5,4,3,2,1,])\n",
    "print(type(data))\n",
    "lis = data.tolist()\n",
    "print(type(lis))"
   ]
  },
  {
   "cell_type": "code",
   "execution_count": 10,
   "id": "fe7ab5f3",
   "metadata": {},
   "outputs": [
    {
     "name": "stdout",
     "output_type": "stream",
     "text": [
      "0     3\n",
      "1     7\n",
      "2    11\n",
      "3    15\n",
      "4    19\n",
      "dtype: int64 0    1\n",
      "1    1\n",
      "2    1\n",
      "3    1\n",
      "4    1\n",
      "dtype: int64 0     2\n",
      "1    12\n",
      "2    30\n",
      "3    56\n",
      "4    90\n",
      "dtype: int64 0    2.000000\n",
      "1    1.333333\n",
      "2    1.200000\n",
      "3    1.142857\n",
      "4    1.111111\n",
      "dtype: float64\n"
     ]
    }
   ],
   "source": [
    "# 3. Write a Pandas program to add, subtract, multiple and divide two Pandas Series\n",
    "\n",
    "data1 = pd.Series([2, 4, 6, 8, 10])\n",
    "data2 = pd.Series([1, 3, 5, 7, 9])\n",
    "\n",
    "print(data1 + data2, data1 - data2, data1 * data2 ,data1 / data2)"
   ]
  },
  {
   "cell_type": "code",
   "execution_count": 13,
   "id": "d7e1d8da",
   "metadata": {},
   "outputs": [
    {
     "name": "stdout",
     "output_type": "stream",
     "text": [
      "Equal : \n",
      "0    False\n",
      "1    False\n",
      "2    False\n",
      "3    False\n",
      "4     True\n",
      "dtype: bool\n",
      "greater : \n",
      "0     True\n",
      "1     True\n",
      "2     True\n",
      "3     True\n",
      "4    False\n",
      "dtype: bool\n",
      "lesser : \n",
      "0    False\n",
      "1    False\n",
      "2    False\n",
      "3    False\n",
      "4    False\n",
      "dtype: bool\n"
     ]
    }
   ],
   "source": [
    "#Write a Pandas program to compare the elements of the two Pandas Series.\n",
    "data1 = pd.Series([2, 4, 6, 8, 10])\n",
    "data2 = pd.Series([1, 3, 5, 7, 10])\n",
    "\n",
    "print(\"Equal : \")\n",
    "print(data1 == data2)\n",
    "\n",
    "print(\"greater : \")\n",
    "print(data1 > data2)\n",
    "\n",
    "print(\"lesser : \")\n",
    "print(data1 < data2)\n"
   ]
  },
  {
   "cell_type": "code",
   "execution_count": null,
   "id": "8ca4e103",
   "metadata": {},
   "outputs": [],
   "source": [
    "# Write a Pandas program to convert a dictionary to a Pandas series\n",
    "dic = {'a': 100, 'b': 200, 'c': 300, 'd': 400, 'e': 800}\n",
    "ser = pd.Series(dic)"
   ]
  }
 ],
 "metadata": {
  "kernelspec": {
   "display_name": "Python 3",
   "language": "python",
   "name": "python3"
  },
  "language_info": {
   "codemirror_mode": {
    "name": "ipython",
    "version": 3
   },
   "file_extension": ".py",
   "mimetype": "text/x-python",
   "name": "python",
   "nbconvert_exporter": "python",
   "pygments_lexer": "ipython3",
   "version": "3.8.10"
  }
 },
 "nbformat": 4,
 "nbformat_minor": 5
}
