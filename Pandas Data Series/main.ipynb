{
 "cells": [
  {
   "cell_type": "markdown",
   "id": "c36d9233",
   "metadata": {},
   "source": [
    "# Pandas Data Series [40 exercises]"
   ]
  },
  {
   "cell_type": "code",
   "execution_count": 1,
   "id": "fbbd7acc",
   "metadata": {},
   "outputs": [],
   "source": [
    "import pandas as pd\n",
    "import numpy as np"
   ]
  },
  {
   "cell_type": "code",
   "execution_count": 3,
   "id": "3bccdf4a",
   "metadata": {},
   "outputs": [
    {
     "name": "stdout",
     "output_type": "stream",
     "text": [
      "0    9\n",
      "1    8\n",
      "2    7\n",
      "3    6\n",
      "4    5\n",
      "5    4\n",
      "6    3\n",
      "7    2\n",
      "8    1\n",
      "dtype: int64\n"
     ]
    }
   ],
   "source": [
    "#1 Write a Pandas program to create and display a one-dimensional array-like object containing an array of data using Pandas module\n",
    "data = pd.Series([9,8,7,6,5,4,3,2,1,])\n",
    "print(data)\n"
   ]
  },
  {
   "cell_type": "code",
   "execution_count": null,
   "id": "9cffd1f6",
   "metadata": {},
   "outputs": [],
   "source": []
  }
 ],
 "metadata": {
  "kernelspec": {
   "display_name": "Python 3",
   "language": "python",
   "name": "python3"
  },
  "language_info": {
   "codemirror_mode": {
    "name": "ipython",
    "version": 3
   },
   "file_extension": ".py",
   "mimetype": "text/x-python",
   "name": "python",
   "nbconvert_exporter": "python",
   "pygments_lexer": "ipython3",
   "version": "3.8.10"
  }
 },
 "nbformat": 4,
 "nbformat_minor": 5
}
