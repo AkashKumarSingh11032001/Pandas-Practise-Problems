{
 "cells": [
  {
   "cell_type": "markdown",
   "id": "eac29340",
   "metadata": {},
   "source": [
    "# Pandas Data Series [40 exercises]"
   ]
  },
  {
   "cell_type": "code",
   "execution_count": 1,
   "id": "f579ba16",
   "metadata": {},
   "outputs": [],
   "source": [
    "import pandas as pd\n",
    "import numpy as np"
   ]
  },
  {
   "cell_type": "code",
   "execution_count": 3,
   "id": "dce1ce86",
   "metadata": {},
   "outputs": [
    {
     "name": "stdout",
     "output_type": "stream",
     "text": [
      "0    9\n",
      "1    8\n",
      "2    7\n",
      "3    6\n",
      "4    5\n",
      "5    4\n",
      "6    3\n",
      "7    2\n",
      "8    1\n",
      "dtype: int64\n"
     ]
    }
   ],
   "source": [
    "#1 Write a Pandas program to create and display a one-dimensional array-like object containing an array of data using Pandas module\n",
    "data = pd.Series([9,8,7,6,5,4,3,2,1,])\n",
    "print(data)\n"
   ]
  },
  {
   "cell_type": "code",
   "execution_count": 6,
   "id": "f8c5ffb0",
   "metadata": {},
   "outputs": [
    {
     "name": "stdout",
     "output_type": "stream",
     "text": [
      "<class 'pandas.core.series.Series'>\n",
      "<class 'list'>\n"
     ]
    }
   ],
   "source": [
    "# 2. Write a Pandas program to convert a Panda module Series to Python list and it's type.\n",
    "data = pd.Series([9,8,7,6,5,4,3,2,1,])\n",
    "print(type(data))\n",
    "lis = data.tolist()\n",
    "print(type(lis))"
   ]
  },
  {
   "cell_type": "code",
   "execution_count": 9,
   "id": "a23b066c",
   "metadata": {},
   "outputs": [
    {
     "name": "stdout",
     "output_type": "stream",
     "text": [
      "0     3\n",
      "1     7\n",
      "2    11\n",
      "3    15\n",
      "4    19\n",
      "dtype: int64 0    1\n",
      "1    1\n",
      "2    1\n",
      "3    1\n",
      "4    1\n",
      "dtype: int64 0     2\n",
      "1    12\n",
      "2    30\n",
      "3    56\n",
      "4    90\n",
      "dtype: int64 0    2.000000\n",
      "1    1.333333\n",
      "2    1.200000\n",
      "3    1.142857\n",
      "4    1.111111\n",
      "dtype: float64\n"
     ]
    }
   ],
   "source": [
    "# 3. Write a Pandas program to add, subtract, multiple and divide two Pandas Series\n",
    "\n",
    "data1 = pd.Series([2, 4, 6, 8, 10])\n",
    "data2 = pd.Series([1, 3, 5, 7, 9])\n",
    "\n",
    "print(data1 + data2, data1 - data2, data1 * data2 ,data1 / data2)"
   ]
  }
 ],
 "metadata": {
  "kernelspec": {
   "display_name": "Python 3",
   "language": "python",
   "name": "python3"
  },
  "language_info": {
   "codemirror_mode": {
    "name": "ipython",
    "version": 3
   },
   "file_extension": ".py",
   "mimetype": "text/x-python",
   "name": "python",
   "nbconvert_exporter": "python",
   "pygments_lexer": "ipython3",
   "version": "3.8.10"
  }
 },
 "nbformat": 4,
 "nbformat_minor": 5
}
